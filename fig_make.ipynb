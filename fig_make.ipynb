{
 "cells": [
  {
   "cell_type": "code",
   "execution_count": 1,
   "metadata": {},
   "outputs": [],
   "source": [
    "\n",
    "import os\n",
    "import cv2\n",
    "import torch\n",
    "import xarray as xr\n",
    "from pathlib import Path\n",
    "from   netCDF4 import Dataset\n",
    "import numpy as np\n",
    "import random\n",
    "from PIL import Image\n",
    "from torch.utils import data"
   ]
  },
  {
   "attachments": {},
   "cell_type": "markdown",
   "metadata": {},
   "source": [
    "# 按时间筛选并拼接"
   ]
  },
  {
   "cell_type": "code",
   "execution_count": 2,
   "metadata": {},
   "outputs": [
    {
     "name": "stdout",
     "output_type": "stream",
     "text": [
      "0\n",
      "0\n",
      "289\n",
      "0\n",
      "0\n",
      "289\n",
      "0\n",
      "0\n",
      "289\n",
      "0\n",
      "0\n",
      "289\n",
      "0\n",
      "0\n",
      "289\n",
      "0\n",
      "0\n",
      "289\n",
      "0\n",
      "0\n",
      "289\n",
      "0\n",
      "0\n",
      "0\n"
     ]
    }
   ],
   "source": [
    "root = '/ai/open11012/zhou/cld/cld_convlstm_seq/test_images/Unet_convlstm_disk_f6s3_epoch3_905T/test_results/'\n",
    "hours = [\"00\", \"01\",\"02\",\"03\",\"04\",\"05\",\"06\",\"07\",\"08\",\"09\",\"10\",\"11\",\"12\",\"13\",\"14\",\"15\",\"16\",\"17\",\"18\",\"19\",\"20\",\"21\",\"22\",\"23\"]\n",
    "minus = ['00','30']\n",
    "img_item = []\n",
    "for h in hours:\n",
    "    hour_img_00 = '20160730_' + h + '00'\n",
    "    hour_img_30 = '20160730_' + h + '30'\n",
    "    img_list_00  = [root+'/'+ f for f in os.listdir(root) if f.startswith(hour_img_00)] #筛选卫星天顶角60度以内的数据\n",
    "    img_list_30  = [root+'/'+ f for f in os.listdir(root) if f.startswith(hour_img_30) ] #筛选卫星天顶角60度以内的数据\n",
    "    img_list_30.sort()\n",
    "    print(len(img_list_30))\n",
    "    if len(img_list_30)>1:\n",
    "        img_item.append(img_list_30)"
   ]
  },
  {
   "attachments": {},
   "cell_type": "markdown",
   "metadata": {},
   "source": [
    "# 拼接图像"
   ]
  },
  {
   "cell_type": "code",
   "execution_count": 5,
   "metadata": {},
   "outputs": [
    {
     "name": "stdout",
     "output_type": "stream",
     "text": [
      "20160730_0230\n",
      "value: [0 1]\n",
      "20160730_0530\n",
      "value: [0 1]\n",
      "20160730_0830\n",
      "value: [0 1]\n",
      "20160730_1130\n",
      "value: [0 1]\n",
      "20160730_1430\n",
      "value: [0 1]\n",
      "20160730_1730\n",
      "value: [0 1]\n",
      "20160730_2030\n",
      "value: [0 1]\n"
     ]
    }
   ],
   "source": [
    "# 创建3400*3400空矩阵\n",
    "arry = np.ones((3400,3400), dtype=np.uint8)*6\n",
    "path_out = '/ai/open11012/zhou/cld/cld_convlstm_seq/test_images/Unet_convlstm_disk_f6s3_epoch3_905T/disk/'\n",
    "for id in range(0,len(img_item)):\n",
    "    item_now =  img_item[id]\n",
    "    for id_img in range(0,len(item_now)):\n",
    "        img = item_now[id_img]\n",
    "        img_data = np.load(img)\n",
    "        for idy in range(0, 17):\n",
    "            for idx in range(0, 17):\n",
    "                arry[200*idy:200*(idy+1),200*idx:200*(idx+1)] = img_data\n",
    "    name_img = img.split('/')[-1][0:13]\n",
    "    print(name_img)\n",
    "    print('value:',np.unique(arry))\n",
    "    np.save(path_out+name_img,arry)\n",
    "        \n"
   ]
  }
 ],
 "metadata": {
  "kernelspec": {
   "display_name": "zhoutt",
   "language": "python",
   "name": "python3"
  },
  "language_info": {
   "codemirror_mode": {
    "name": "ipython",
    "version": 3
   },
   "file_extension": ".py",
   "mimetype": "text/x-python",
   "name": "python",
   "nbconvert_exporter": "python",
   "pygments_lexer": "ipython3",
   "version": "3.8.16"
  },
  "orig_nbformat": 4
 },
 "nbformat": 4,
 "nbformat_minor": 2
}
