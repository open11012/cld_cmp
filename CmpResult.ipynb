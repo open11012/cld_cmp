{
 "cells": [
  {
   "cell_type": "code",
   "execution_count": 2,
   "metadata": {},
   "outputs": [],
   "source": [
    "\n",
    "import os\n",
    "import cv2\n",
    "import xarray as xr\n",
    "from pathlib import Path\n",
    "from   netCDF4 import Dataset\n",
    "import numpy as np\n",
    "import random\n",
    "from PIL import Image"
   ]
  },
  {
   "attachments": {},
   "cell_type": "markdown",
   "metadata": {},
   "source": [
    "## 1 对比result 与 label"
   ]
  },
  {
   "attachments": {},
   "cell_type": "markdown",
   "metadata": {},
   "source": [
    "### 1.1 选取原始6001*6001 中切割 07_07 到23_23范围"
   ]
  },
  {
   "cell_type": "code",
   "execution_count": 3,
   "metadata": {},
   "outputs": [
    {
     "name": "stdout",
     "output_type": "stream",
     "text": [
      "dict_keys(['latitude', 'longitude', 'band_id', 'start_time', 'end_time', 'geometry_parameters', 'albedo_01', 'albedo_02', 'albedo_03', 'sd_albedo_03', 'albedo_04', 'albedo_05', 'albedo_06', 'tbb_07', 'tbb_08', 'tbb_09', 'tbb_10', 'tbb_11', 'tbb_12', 'tbb_13', 'tbb_14', 'tbb_15', 'tbb_16', 'SAZ', 'SAA', 'SOZ', 'SOA', 'Hour'])\n"
     ]
    }
   ],
   "source": [
    "path_lalo = '/home/zhoutt/public/data/H8/L1/201607/30/NC_H08_20160730_0230_R21_FLDK.06001_06001.nc' # 找一个图像读取经纬度网格\n",
    "path_data = '/home/zhoutt/code/datasets/results/disk/'\n",
    "img_list  = [path_data + f for f in os.listdir(path_data) if f.endswith('.npy')]\n",
    "H8_lalo   = Dataset(path_lalo,mode='r')\n",
    "print(H8_lalo.variables.keys())\n",
    "lat_read  = H8_lalo.variables['latitude'][200*6:200*23].data\n",
    "lon_read  = H8_lalo.variables['longitude'][200*6:200*23].data\n",
    "SAZ_read  = H8_lalo.variables['SAZ'][200*6:200*23,200*6:200*23].data"
   ]
  },
  {
   "attachments": {},
   "cell_type": "markdown",
   "metadata": {},
   "source": [
    "### 1.2 对比全圆盘label 与test_result"
   ]
  },
  {
   "cell_type": "code",
   "execution_count": 46,
   "metadata": {},
   "outputs": [
    {
     "name": "stdout",
     "output_type": "stream",
     "text": [
      "-1 200042\n",
      "0 11085258\n",
      "acc: 0.9589323529411765\n",
      "1 274700\n"
     ]
    }
   ],
   "source": [
    "label_path = '/home/zhoutt/code/datasets/H8label2016/H8Lb_20160730_0230_6001_6001.nc'\n",
    "label_dataset  = Dataset(label_path,mode='r')\n",
    "label = label_dataset.variables['cldmask'][200*6:200*23,200*6:200*23].data\n",
    "label[label==6]=0\n",
    "result = np.load('/home/zhoutt/code/datasets/results/disk_splice_1/20160730_0230.npy')\n",
    "dif_disk_200 = result - label \n",
    "aa =  np.unique(dif_disk_200)\n",
    "for i in aa:\n",
    "    num = np.sum(dif_disk_200==i)\n",
    "    print(i, num)\n",
    "    if i==0:\n",
    "        acc = num/(3400*3400)\n",
    "        print('acc:',acc)"
   ]
  },
  {
   "cell_type": "code",
   "execution_count": 8,
   "metadata": {},
   "outputs": [
    {
     "name": "stdout",
     "output_type": "stream",
     "text": [
      "dif_disk_200 11135\n",
      "dif_disk_200 19957\n",
      "dif_disk_200 8908\n"
     ]
    }
   ],
   "source": [
    "label_path = '/home/zhoutt/code/datasets/H8label2016/H8Lb_20160730_0230_6001_6001.nc'\n",
    "label_dataset  = Dataset(label_path,mode='r')\n",
    "label = label_dataset.variables['cldmask'][200*6:200*7,200*6:200*7].data\n",
    "label[label==6]=0\n",
    "result = np.load('/home/zhoutt/code/datasets/results/disk/20160730_0230.npy')[0:200,0:200]\n",
    "dif_disk_200 = result - label \n",
    "aa =  np.unique(dif_disk_200)\n",
    "for i in aa:\n",
    "    num = np.sum(dif_disk_200==i)\n",
    "    print('dif_disk_200',num)"
   ]
  },
  {
   "attachments": {},
   "cell_type": "markdown",
   "metadata": {},
   "source": [
    "### 1.3 验证切割是否正确  !!!!!! 行列搞反了！！！！！😭"
   ]
  },
  {
   "cell_type": "code",
   "execution_count": 35,
   "metadata": {},
   "outputs": [
    {
     "name": "stdout",
     "output_type": "stream",
     "text": [
      "0.0 40000\n"
     ]
    }
   ],
   "source": [
    "label_disk = label_dataset.variables['cldmask'][200*7:200*8,200*6:200*7].data\n",
    "label_200 = np.load('/home/zhoutt/code/datasets/H8label2016_06_07_npy/20160730_0230_07_08.npz')['arr_0'][9,:,:]\n",
    "dif_disk_200 = label_disk - label_200 \n",
    "aa =  np.unique(dif_disk_200)\n",
    "for i in aa:\n",
    "    num = np.sum(dif_disk_200==i)\n",
    "    print(i,num)"
   ]
  },
  {
   "attachments": {},
   "cell_type": "markdown",
   "metadata": {},
   "source": [
    "### 1.4 对比200*200尺寸label 与test_result"
   ]
  },
  {
   "cell_type": "code",
   "execution_count": 20,
   "metadata": {},
   "outputs": [
    {
     "name": "stdout",
     "output_type": "stream",
     "text": [
      "dif_disk_200 596\n",
      "dif_disk_200 36510\n",
      "dif_disk_200 2894\n"
     ]
    }
   ],
   "source": [
    "result_200 = np.load('/home/zhoutt/code/datasets/results/200_disk/20160730_0230_08_08.npy')\n",
    "label_200 = np.load('/home/zhoutt/code/datasets/H8label2016_06_07_npy/20160730_0230_08_08.npz')['arr_0'][9,:,:]\n",
    "label_200[label_200==6] = 0\n",
    "dif_disk_200 = result_200 - label_200\n",
    "aa =  np.unique(dif_disk_200)\n",
    "for i in aa:\n",
    "    num = np.sum(dif_disk_200==i)\n",
    "    print('dif_disk_200',num)"
   ]
  },
  {
   "attachments": {},
   "cell_type": "markdown",
   "metadata": {},
   "source": [
    "### 1.5 对比200 result 与disk result"
   ]
  },
  {
   "cell_type": "code",
   "execution_count": 27,
   "metadata": {},
   "outputs": [
    {
     "name": "stdout",
     "output_type": "stream",
     "text": [
      "0 40000\n"
     ]
    }
   ],
   "source": [
    "result_200 = np.load('/home/zhoutt/code/datasets/results/200_disk/20160730_0230_08_08.npy')\n",
    "result_disk = np.load('/home/zhoutt/code/datasets/results/disk_splice_1/20160730_0230.npy')[200:400,200:400]\n",
    "# label_200[label_200==6] = 0\n",
    "dif_disk_200 = result_200 - result_disk\n",
    "aa =  np.unique(dif_disk_200)\n",
    "for i in aa:\n",
    "    num = np.sum(dif_disk_200==i)\n",
    "    print(i,num)"
   ]
  },
  {
   "attachments": {},
   "cell_type": "markdown",
   "metadata": {},
   "source": [
    "## 2. 对比200数据集与256数据集，确保256数据集没有出错"
   ]
  },
  {
   "attachments": {},
   "cell_type": "markdown",
   "metadata": {},
   "source": [
    "### 2.1 测试200 与 256 6月7月数据"
   ]
  },
  {
   "cell_type": "code",
   "execution_count": null,
   "metadata": {},
   "outputs": [],
   "source": []
  }
 ],
 "metadata": {
  "kernelspec": {
   "display_name": "zhoutt",
   "language": "python",
   "name": "python3"
  },
  "language_info": {
   "codemirror_mode": {
    "name": "ipython",
    "version": 3
   },
   "file_extension": ".py",
   "mimetype": "text/x-python",
   "name": "python",
   "nbconvert_exporter": "python",
   "pygments_lexer": "ipython3",
   "version": "3.9.15"
  },
  "orig_nbformat": 4
 },
 "nbformat": 4,
 "nbformat_minor": 2
}
