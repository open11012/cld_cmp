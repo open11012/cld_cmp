{
 "cells": [
  {
   "cell_type": "code",
   "execution_count": 2,
   "metadata": {},
   "outputs": [],
   "source": [
    "\n",
    "import os\n",
    "import cv2\n",
    "import torch\n",
    "import xarray as xr\n",
    "from pathlib import Path\n",
    "from   netCDF4 import Dataset\n",
    "import numpy as np\n",
    "import random\n",
    "from PIL import Image\n",
    "from torch.utils import data"
   ]
  },
  {
   "attachments": {},
   "cell_type": "markdown",
   "metadata": {},
   "source": [
    "# 07_07 到23_23"
   ]
  },
  {
   "cell_type": "code",
   "execution_count": 22,
   "metadata": {},
   "outputs": [
    {
     "name": "stdout",
     "output_type": "stream",
     "text": [
      "dict_keys(['latitude', 'longitude', 'band_id', 'start_time', 'end_time', 'geometry_parameters', 'albedo_01', 'albedo_02', 'albedo_03', 'sd_albedo_03', 'albedo_04', 'albedo_05', 'albedo_06', 'tbb_07', 'tbb_08', 'tbb_09', 'tbb_10', 'tbb_11', 'tbb_12', 'tbb_13', 'tbb_14', 'tbb_15', 'tbb_16', 'SAZ', 'SAA', 'SOZ', 'SOA', 'Hour'])\n"
     ]
    }
   ],
   "source": [
    "path_lalo = '/Users/zhou/Documents/data/dataset/cld_results/nc_file/NC_H08_20160101_0000_R21_FLDK.06001_06001.nc' # 找一个图像读取经纬度网格\n",
    "path_data = '/Users/zhou/Documents/data/dataset/cld_results/'\n",
    "img_list  = [path_data + f for f in os.listdir(path_data) if f.endswith('.npy')]\n",
    "H8_lalo   = Dataset(path_lalo,mode='r')\n",
    "print(H8_lalo.variables.keys())\n",
    "lat_read  = H8_lalo.variables['latitude'][200*6:200*22].data\n",
    "lon_read  = H8_lalo.variables['longitude'][200*6:200*22].data\n",
    "SAZ_read  = H8_lalo.variables['SAZ'][200*6:200*22,200*6:200*22].data"
   ]
  },
  {
   "cell_type": "code",
   "execution_count": 26,
   "metadata": {},
   "outputs": [],
   "source": [
    "start_time  = H8_lalo.variables['start_time'][:].data"
   ]
  }
 ],
 "metadata": {
  "kernelspec": {
   "display_name": "zhoutt",
   "language": "python",
   "name": "python3"
  },
  "language_info": {
   "codemirror_mode": {
    "name": "ipython",
    "version": 3
   },
   "file_extension": ".py",
   "mimetype": "text/x-python",
   "name": "python",
   "nbconvert_exporter": "python",
   "pygments_lexer": "ipython3",
   "version": "3.9.15"
  },
  "orig_nbformat": 4
 },
 "nbformat": 4,
 "nbformat_minor": 2
}
