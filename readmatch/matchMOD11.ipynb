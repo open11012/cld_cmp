{
 "cells": [
  {
   "cell_type": "code",
   "execution_count": 1,
   "metadata": {},
   "outputs": [],
   "source": [
    "import datetime\n",
    "from datetime import timedelta\n",
    "import pandas as pd\n",
    "import numpy as np\n",
    "import xarray as xr"
   ]
  },
  {
   "cell_type": "code",
   "execution_count": 2,
   "metadata": {},
   "outputs": [],
   "source": [
    "month = 1\n",
    "num_mon = '%02d' % month\n",
    "AVDlabel = pd.read_csv('/home/fuhy/data/CALIPSO/CALIPSO_AVD_2016_' + num_mon + '.csv', header=[0])"
   ]
  },
  {
   "cell_type": "code",
   "execution_count": 3,
   "metadata": {},
   "outputs": [],
   "source": [
    "def getMODdoy(dt):\n",
    "    date = np.floor(dt)\n",
    "    time = dt - date\n",
    "    t = datetime.datetime.strptime('20' + str(date)[0:6], '%Y%m%d') + timedelta(days=time)\n",
    "    doy = (t - datetime.datetime(t.year, 1, 1)).days//8*8 + 1\n",
    "    return doy"
   ]
  },
  {
   "cell_type": "code",
   "execution_count": 4,
   "metadata": {},
   "outputs": [
    {
     "data": {
      "text/plain": [
       "0          1\n",
       "1          1\n",
       "2          1\n",
       "3          1\n",
       "4          1\n",
       "          ..\n",
       "697083    25\n",
       "697084    25\n",
       "697085    25\n",
       "697086    25\n",
       "697087    25\n",
       "Name: Profile_UTC_Time_2, Length: 697088, dtype: int64"
      ]
     },
     "execution_count": 4,
     "metadata": {},
     "output_type": "execute_result"
    }
   ],
   "source": [
    "dt = AVDlabel['Profile_UTC_Time_2']\n",
    "doy = dt.apply(getMODdoy)\n",
    "doy"
   ]
  },
  {
   "cell_type": "code",
   "execution_count": 8,
   "metadata": {},
   "outputs": [],
   "source": [
    "def getMODlat(lat):\n",
    "    # 根据经纬度找到对应MOD11网格点\n",
    "    # From top to bottom:    90 : 0.05 : -89.95\n",
    "    # From left to right:  -180 : 0.05 : 179.95 \n",
    "    idx_lat = round((90-lat)/0.05)\n",
    "    return idx_lat\n",
    "\n",
    "\n",
    "def getMODlon(lon):\n",
    "    # 根据经纬度找到对应MOD11网格点\n",
    "    # From top to bottom:    90 : 0.05 : -89.95\n",
    "    # From left to right:  -180 : 0.05 : 179.95\n",
    "    idx_lon = round((lon+180)/0.05)\n",
    "    return idx_lon"
   ]
  },
  {
   "cell_type": "code",
   "execution_count": 6,
   "metadata": {},
   "outputs": [
    {
     "name": "stdout",
     "output_type": "stream",
     "text": [
      "-180.0 179.9999 60.01987 -60.01947\n"
     ]
    }
   ],
   "source": [
    "lat = AVDlabel['Latitude_2']\n",
    "lon = AVDlabel['Longitude_2']\n",
    "print(lon.min(),lon.max(),lat.max(),lat.min())"
   ]
  },
  {
   "cell_type": "code",
   "execution_count": 9,
   "metadata": {},
   "outputs": [
    {
     "name": "stdout",
     "output_type": "stream",
     "text": [
      "0 7199 3000 600\n"
     ]
    }
   ],
   "source": [
    "idx_lat = lat.apply(getMODlat)\n",
    "idx_lon = lon.apply(getMODlon)\n",
    "idx_lon[idx_lon == 7200] = 0\n",
    "print(idx_lon.min(),idx_lon.max(),idx_lat.max(),idx_lat.min())"
   ]
  },
  {
   "cell_type": "code",
   "execution_count": 15,
   "metadata": {},
   "outputs": [],
   "source": [
    "doy = 1\n",
    "doystr = '%03d' % doy\n",
    "MOD11all = np.load('MOD11C2.A2016'+doystr+'.061.itp.npy')"
   ]
  },
  {
   "cell_type": "code",
   "execution_count": 16,
   "metadata": {},
   "outputs": [
    {
     "name": "stdout",
     "output_type": "stream",
     "text": [
      "001\n"
     ]
    },
    {
     "data": {
      "text/plain": [
       "(3600, 7200, 6)"
      ]
     },
     "execution_count": 16,
     "metadata": {},
     "output_type": "execute_result"
    }
   ],
   "source": [
    "print(doystr)\n",
    "data.shape"
   ]
  },
  {
   "cell_type": "code",
   "execution_count": 23,
   "metadata": {},
   "outputs": [
    {
     "data": {
      "text/html": [
       "<div>\n",
       "<style scoped>\n",
       "    .dataframe tbody tr th:only-of-type {\n",
       "        vertical-align: middle;\n",
       "    }\n",
       "\n",
       "    .dataframe tbody tr th {\n",
       "        vertical-align: top;\n",
       "    }\n",
       "\n",
       "    .dataframe thead th {\n",
       "        text-align: right;\n",
       "    }\n",
       "</style>\n",
       "<table border=\"1\" class=\"dataframe\">\n",
       "  <thead>\n",
       "    <tr style=\"text-align: right;\">\n",
       "      <th></th>\n",
       "      <th>MOD11_Emis_20</th>\n",
       "      <th>MOD11_Emis_22</th>\n",
       "      <th>MOD11_Emis_23</th>\n",
       "      <th>MOD11_Emis_29</th>\n",
       "      <th>MOD11_Emis_31</th>\n",
       "      <th>MOD11_Emis_32</th>\n",
       "    </tr>\n",
       "  </thead>\n",
       "  <tbody>\n",
       "    <tr>\n",
       "      <th>0</th>\n",
       "      <td>0.99</td>\n",
       "      <td>0.99</td>\n",
       "      <td>0.99</td>\n",
       "      <td>0.99</td>\n",
       "      <td>0.99</td>\n",
       "      <td>0.99</td>\n",
       "    </tr>\n",
       "  </tbody>\n",
       "</table>\n",
       "</div>"
      ],
      "text/plain": [
       "   MOD11_Emis_20  MOD11_Emis_22  MOD11_Emis_23  MOD11_Emis_29  MOD11_Emis_31  \\\n",
       "0           0.99           0.99           0.99           0.99           0.99   \n",
       "\n",
       "   MOD11_Emis_32  \n",
       "0           0.99  "
      ]
     },
     "execution_count": 23,
     "metadata": {},
     "output_type": "execute_result"
    }
   ],
   "source": [
    "bands = ['Emis_20', 'Emis_22', 'Emis_23', 'Emis_29', 'Emis_31', 'Emis_32']\n",
    "df = pd.DataFrame(columns=['MOD11_'+s for s in bands])\n",
    "df.loc[0] = data[2,2,:]\n",
    "df"
   ]
  },
  {
   "cell_type": "code",
   "execution_count": null,
   "metadata": {},
   "outputs": [],
   "source": []
  },
  {
   "cell_type": "code",
   "execution_count": 12,
   "metadata": {},
   "outputs": [
    {
     "data": {
      "text/plain": [
       "array([ 1,  9, 17, 25])"
      ]
     },
     "execution_count": 12,
     "metadata": {},
     "output_type": "execute_result"
    }
   ],
   "source": [
    "doy.unique()"
   ]
  },
  {
   "cell_type": "code",
   "execution_count": 3,
   "metadata": {},
   "outputs": [
    {
     "data": {
      "text/plain": [
       "[1,\n",
       " 9,\n",
       " 17,\n",
       " 25,\n",
       " 33,\n",
       " 41,\n",
       " 49,\n",
       " 57,\n",
       " 65,\n",
       " 73,\n",
       " 81,\n",
       " 89,\n",
       " 97,\n",
       " 105,\n",
       " 113,\n",
       " 121,\n",
       " 129,\n",
       " 137,\n",
       " 145,\n",
       " 153,\n",
       " 161,\n",
       " 169,\n",
       " 177,\n",
       " 185,\n",
       " 193,\n",
       " 201,\n",
       " 209,\n",
       " 217,\n",
       " 225,\n",
       " 233,\n",
       " 241,\n",
       " 249,\n",
       " 257,\n",
       " 265,\n",
       " 273,\n",
       " 281,\n",
       " 289,\n",
       " 297,\n",
       " 305,\n",
       " 313,\n",
       " 321,\n",
       " 329,\n",
       " 337,\n",
       " 345,\n",
       " 353,\n",
       " 361]"
      ]
     },
     "execution_count": 3,
     "metadata": {},
     "output_type": "execute_result"
    }
   ],
   "source": [
    "list(range(1, 366, 8))"
   ]
  },
  {
   "cell_type": "code",
   "execution_count": 2,
   "metadata": {},
   "outputs": [],
   "source": [
    "# File path\n",
    "C2path = '/home/public/data/MODIS/MOD11C2/v061/'\n",
    "C3path = '/home/public/data/MODIS/MOD11C3/'\n",
    "# Getting the filename list:\n",
    "import os\n",
    "C2list=[filename for filename in\n",
    "    os.listdir(C2path)\n",
    "    if filename.endswith('.hdf')]\n",
    "# listC2 = list(reversed(listC2))\n",
    "C3list=[filename for filename in\n",
    "    os.listdir(C3path)\n",
    "    if filename.endswith('.hdf')]\n",
    "# listC3 = list(reversed(listC3))\n",
    "# SD_file = SD(C2path+C2list[0])\n",
    "# ds_dict = SD_file.datasets()\n",
    "# print(ds_dict)"
   ]
  },
  {
   "cell_type": "code",
   "execution_count": 3,
   "metadata": {},
   "outputs": [],
   "source": [
    "def getC3month(C2name):\n",
    "    dtstr = C2name[9:16]  # year and DoY\n",
    "    dt = datetime.datetime.strptime(dtstr[0:4], '%Y') + timedelta(days=int(dtstr[4:7])-1)\n",
    "    C3month = dt.month\n",
    "    return C3month"
   ]
  },
  {
   "cell_type": "code",
   "execution_count": 4,
   "metadata": {},
   "outputs": [],
   "source": [
    "def readMOD11(filename):\n",
    "    '''\n",
    "    @read hdf:pyhdf读取hdf数据集\n",
    "    '''\n",
    "    SD_file = SD(filename)\n",
    "    ds_dict = SD_file.datasets()\n",
    "    \n",
    "    emis20 = SD_file.select('Emis_20')[:] \n",
    "    emis20 = emis20*(SD_file.select('Emis_20').attributes()['scale_factor']) + (SD_file.select('Emis_20').attributes()['add_offset']) \n",
    "    emis22 = SD_file.select('Emis_22')[:] \n",
    "    emis22 = emis22*(SD_file.select('Emis_22').attributes()['scale_factor']) + (SD_file.select('Emis_22').attributes()['add_offset']) \n",
    "    emis23 = SD_file.select('Emis_23')[:] \n",
    "    emis23 = emis23*(SD_file.select('Emis_23').attributes()['scale_factor']) + (SD_file.select('Emis_23').attributes()['add_offset']) \n",
    "    emis29 = SD_file.select('Emis_29')[:] \n",
    "    emis29 = emis29*(SD_file.select('Emis_29').attributes()['scale_factor']) + (SD_file.select('Emis_29').attributes()['add_offset']) \n",
    "    emis31 = SD_file.select('Emis_31')[:] \n",
    "    emis31 = emis31*(SD_file.select('Emis_31').attributes()['scale_factor']) + (SD_file.select('Emis_31').attributes()['add_offset']) \n",
    "    emis32 = SD_file.select('Emis_32')[:] \n",
    "    emis32 = emis32*(SD_file.select('Emis_32').attributes()['scale_factor']) + (SD_file.select('Emis_32').attributes()['add_offset']) \n",
    "    land_p = SD_file.select('Percent_land_in_grid')[:]\n",
    "    mask_o = land_p < 50\n",
    "\n",
    "    arr = np.zeros((emis20.shape[0], emis20.shape[1], 7))\n",
    "    arr[:, :, 0] = emis20\n",
    "    arr[:, :, 1] = emis22\n",
    "    arr[:, :, 2] = emis23\n",
    "    arr[:, :, 3] = emis29\n",
    "    arr[:, :, 4] = emis31\n",
    "    arr[:, :, 5] = emis32\n",
    "    arr[:, :, 6] = mask_o\n",
    "\n",
    "    SD_file.end()\n",
    "    return arr"
   ]
  },
  {
   "cell_type": "code",
   "execution_count": null,
   "metadata": {},
   "outputs": [],
   "source": [
    "def matchMOD11(file, idx_lat, idx_lon):\n",
    "    '''\n",
    "    @read hdf:pyhdf读取hdf数据集\n",
    "    '''\n",
    "    arr = file[idx_lat, idx_lon, :]\n",
    "    return arr"
   ]
  },
  {
   "cell_type": "code",
   "execution_count": 6,
   "metadata": {},
   "outputs": [
    {
     "name": "stdout",
     "output_type": "stream",
     "text": [
      "插值前最小值: 0.52\n",
      "插值后最小值: 0.996\n",
      "陆地平均值: 0.943470512417523\n",
      "mod11插值后max: 0.996\n",
      "mod11插值后min: 0.52\n",
      "陆地平均值: 0.9421677010953121\n",
      "mod11插值后max: 0.996\n",
      "mod11插值后min: 0.52\n",
      "陆地平均值: 0.9408372404090665\n",
      "mod11插值后max: 0.996\n",
      "mod11插值后min: 0.532\n",
      "陆地平均值: 0.9525118393816518\n",
      "mod11插值后max: 0.996\n",
      "mod11插值后min: 0.602\n",
      "陆地平均值: 0.983512094008773\n",
      "mod11插值后max: 0.996\n",
      "mod11插值后min: 0.9299999999999999\n",
      "陆地平均值: 0.9853595735540757\n",
      "mod11插值后max: 0.996\n",
      "mod11插值后min: 0.9199999999999999\n",
      "插值前最小值: 0.56\n",
      "插值后最小值: 0.996\n",
      "陆地平均值: 0.9436429879419495\n",
      "mod11插值后max: 0.996\n",
      "mod11插值后min: 0.598\n",
      "陆地平均值: 0.9423773928529308\n",
      "mod11插值后max: 0.996\n",
      "mod11插值后min: 0.594\n",
      "陆地平均值: 0.9408524019029346\n",
      "mod11插值后max: 0.996\n",
      "mod11插值后min: 0.56\n",
      "陆地平均值: 0.9524869890770453\n",
      "mod11插值后max: 0.996\n",
      "mod11插值后min: 0.626\n",
      "陆地平均值: 0.9835088463613716\n",
      "mod11插值后max: 0.996\n",
      "mod11插值后min: 0.9219999999999999\n",
      "陆地平均值: 0.9853311046090188\n",
      "mod11插值后max: 0.996\n",
      "mod11插值后min: 0.9299999999999999\n",
      "插值前最小值: 0.594\n",
      "插值后最小值: 0.996\n",
      "陆地平均值: 0.9436077417115296\n",
      "mod11插值后max: 0.996\n",
      "mod11插值后min: 0.618\n",
      "陆地平均值: 0.9423027458438733\n",
      "mod11插值后max: 0.996\n",
      "mod11插值后min: 0.606\n",
      "陆地平均值: 0.9407167571463453\n",
      "mod11插值后max: 0.996\n",
      "mod11插值后min: 0.582\n",
      "陆地平均值: 0.9525350908983127\n",
      "mod11插值后max: 0.996\n",
      "mod11插值后min: 0.6679999999999999\n",
      "陆地平均值: 0.9834553348882086\n",
      "mod11插值后max: 0.996\n",
      "mod11插值后min: 0.9299999999999999\n",
      "陆地平均值: 0.9852940005927004\n",
      "mod11插值后max: 0.996\n",
      "mod11插值后min: 0.9299999999999999\n"
     ]
    },
    {
     "ename": "KeyboardInterrupt",
     "evalue": "",
     "output_type": "error",
     "traceback": [
      "\u001b[0;31m---------------------------------------------------------------------------\u001b[0m",
      "\u001b[0;31mKeyboardInterrupt\u001b[0m                         Traceback (most recent call last)",
      "\u001b[0;32m<ipython-input-6-29b17bb52b24>\u001b[0m in \u001b[0;36m<module>\u001b[0;34m\u001b[0m\n\u001b[1;32m      6\u001b[0m     \u001b[0mMODC3\u001b[0m \u001b[0;34m=\u001b[0m \u001b[0mreadMOD11\u001b[0m\u001b[0;34m(\u001b[0m\u001b[0mC3path\u001b[0m\u001b[0;34m+\u001b[0m\u001b[0mC3list\u001b[0m\u001b[0;34m[\u001b[0m\u001b[0;34m-\u001b[0m\u001b[0mC3month\u001b[0m\u001b[0;34m]\u001b[0m\u001b[0;34m)\u001b[0m\u001b[0;34m\u001b[0m\u001b[0;34m\u001b[0m\u001b[0m\n\u001b[1;32m      7\u001b[0m     \u001b[0mMOD11all\u001b[0m \u001b[0;34m=\u001b[0m \u001b[0minterpMod11Linear\u001b[0m\u001b[0;34m(\u001b[0m\u001b[0mMODC2\u001b[0m\u001b[0;34m,\u001b[0m \u001b[0mMODC3\u001b[0m\u001b[0;34m)\u001b[0m\u001b[0;34m\u001b[0m\u001b[0;34m\u001b[0m\u001b[0m\n\u001b[0;32m----> 8\u001b[0;31m     \u001b[0mnp\u001b[0m\u001b[0;34m.\u001b[0m\u001b[0msave\u001b[0m\u001b[0;34m(\u001b[0m\u001b[0mC2name\u001b[0m\u001b[0;34m[\u001b[0m\u001b[0;36m0\u001b[0m\u001b[0;34m:\u001b[0m\u001b[0;36m35\u001b[0m\u001b[0;34m]\u001b[0m\u001b[0;34m+\u001b[0m\u001b[0;34m'itp.hdf'\u001b[0m\u001b[0;34m,\u001b[0m\u001b[0mMOD11all\u001b[0m\u001b[0;34m)\u001b[0m\u001b[0;34m\u001b[0m\u001b[0;34m\u001b[0m\u001b[0m\n\u001b[0m",
      "\u001b[0;32m~/.local/lib/python3.8/site-packages/numpy/core/overrides.py\u001b[0m in \u001b[0;36msave\u001b[0;34m(*args, **kwargs)\u001b[0m\n",
      "\u001b[0;32m~/.local/lib/python3.8/site-packages/numpy/lib/npyio.py\u001b[0m in \u001b[0;36msave\u001b[0;34m(file, arr, allow_pickle, fix_imports)\u001b[0m\n\u001b[1;32m    500\u001b[0m     \u001b[0;32mwith\u001b[0m \u001b[0mfile_ctx\u001b[0m \u001b[0;32mas\u001b[0m \u001b[0mfid\u001b[0m\u001b[0;34m:\u001b[0m\u001b[0;34m\u001b[0m\u001b[0;34m\u001b[0m\u001b[0m\n\u001b[1;32m    501\u001b[0m         \u001b[0marr\u001b[0m \u001b[0;34m=\u001b[0m \u001b[0mnp\u001b[0m\u001b[0;34m.\u001b[0m\u001b[0masanyarray\u001b[0m\u001b[0;34m(\u001b[0m\u001b[0marr\u001b[0m\u001b[0;34m)\u001b[0m\u001b[0;34m\u001b[0m\u001b[0;34m\u001b[0m\u001b[0m\n\u001b[0;32m--> 502\u001b[0;31m         format.write_array(fid, arr, allow_pickle=allow_pickle,\n\u001b[0m\u001b[1;32m    503\u001b[0m                            pickle_kwargs=dict(fix_imports=fix_imports))\n\u001b[1;32m    504\u001b[0m \u001b[0;34m\u001b[0m\u001b[0m\n",
      "\u001b[0;32m~/.local/lib/python3.8/site-packages/numpy/lib/format.py\u001b[0m in \u001b[0;36mwrite_array\u001b[0;34m(fp, array, version, allow_pickle, pickle_kwargs)\u001b[0m\n\u001b[1;32m    687\u001b[0m     \u001b[0;32melse\u001b[0m\u001b[0;34m:\u001b[0m\u001b[0;34m\u001b[0m\u001b[0;34m\u001b[0m\u001b[0m\n\u001b[1;32m    688\u001b[0m         \u001b[0;32mif\u001b[0m \u001b[0misfileobj\u001b[0m\u001b[0;34m(\u001b[0m\u001b[0mfp\u001b[0m\u001b[0;34m)\u001b[0m\u001b[0;34m:\u001b[0m\u001b[0;34m\u001b[0m\u001b[0;34m\u001b[0m\u001b[0m\n\u001b[0;32m--> 689\u001b[0;31m             \u001b[0marray\u001b[0m\u001b[0;34m.\u001b[0m\u001b[0mtofile\u001b[0m\u001b[0;34m(\u001b[0m\u001b[0mfp\u001b[0m\u001b[0;34m)\u001b[0m\u001b[0;34m\u001b[0m\u001b[0;34m\u001b[0m\u001b[0m\n\u001b[0m\u001b[1;32m    690\u001b[0m         \u001b[0;32melse\u001b[0m\u001b[0;34m:\u001b[0m\u001b[0;34m\u001b[0m\u001b[0;34m\u001b[0m\u001b[0m\n\u001b[1;32m    691\u001b[0m             for chunk in numpy.nditer(\n",
      "\u001b[0;31mKeyboardInterrupt\u001b[0m: "
     ]
    }
   ],
   "source": [
    "# Processing the file:\n",
    "for i in range(len(C2list)):\n",
    "    C2name = C2list[i]\n",
    "    C3month = getC3month(C2name)\n",
    "    MODC2 = readMOD11(C2path+C2name)\n",
    "    MODC3 = readMOD11(C3path+C3list[-C3month])\n",
    "    MOD11all = interpMod11Linear(MODC2, MODC3)\n",
    "    np.save(C2name[0:35]+'itp.hdf',MOD11all)"
   ]
  },
  {
   "cell_type": "code",
   "execution_count": 16,
   "metadata": {},
   "outputs": [
    {
     "name": "stdout",
     "output_type": "stream",
     "text": [
      "/home/public/data/MODIS/MOD11C2/v061/\n",
      "MOD11C2.A2016297.061.2022020234531.hdf\n",
      "/home/public/data/MODIS/MOD11C2/v061/MOD11C2.A2016297.061.2022020234531.hdf\n",
      "10\n",
      "(3600, 7200, 7)\n",
      "(3600, 7200, 7)\n",
      "插值前最小值: 0.596\n",
      "插值后最小值: 0.998\n",
      "陆地平均值: 0.9496465952077005\n",
      "mod11插值后max: 0.996\n",
      "mod11插值后min: 0.622\n",
      "陆地平均值: 0.9480883210930955\n",
      "mod11插值后max: 0.998\n",
      "mod11插值后min: 0.596\n",
      "陆地平均值: 0.9459321184955571\n",
      "mod11插值后max: 0.998\n",
      "mod11插值后min: 0.546\n",
      "陆地平均值: 0.9588110205131951\n",
      "mod11插值后max: 0.996\n",
      "mod11插值后min: 0.648\n",
      "陆地平均值: 0.9832845634626014\n",
      "mod11插值后max: 0.996\n",
      "mod11插值后min: 0.9299999999999999\n",
      "陆地平均值: 0.9854423339858966\n",
      "mod11插值后max: 0.996\n",
      "mod11插值后min: 0.9299999999999999\n"
     ]
    }
   ],
   "source": [
    "# Processing the file:\n",
    "# i = 8\n",
    "# C2name = C2list[i]\n",
    "# print(C2path)\n",
    "# print(C2name)\n",
    "# a = C2path+C2name\n",
    "# print(a)\n",
    "# C3month = getC3month(C2name)\n",
    "\n",
    "# print(C3month)\n",
    "# MODC2 = readMOD11(C2path+C2name)\n",
    "# MODC3 = readMOD11(C3path+C3list[-i])\n",
    "# print(MODC2.shape)\n",
    "# print(MODC3.shape)\n",
    "# MOD11C2_3 = interpMod11Linear(MODC2, MODC3)"
   ]
  },
  {
   "cell_type": "code",
   "execution_count": 7,
   "metadata": {},
   "outputs": [
    {
     "data": {
      "image/png": "[encoded data removed]",
      "text/plain": [
       "<Figure size 144x144 with 1 Axes>"
      ]
     },
     "metadata": {
      "needs_background": "light"
     },
     "output_type": "display_data"
    }
   ],
   "source": [
    "# import matplotlib.pyplot as plt\n",
    "# import numpy as np\n",
    "\n",
    "# plt.style.use('_mpl-gallery')\n",
    "\n",
    "# # make data\n",
    "# np.random.seed(1)\n",
    "# x = MOD11ds[:,:,1]\n",
    "\n",
    "# # plot:\n",
    "# fig, ax = plt.subplots()\n",
    "\n",
    "# ax.hist(x, bins=8, linewidth=0.5, edgecolor=\"white\")\n",
    "\n",
    "# # ax.set(xlim=(0, 8), xticks=np.arange(1, 8),\n",
    "# #        ylim=(0, 56), yticks=np.linspace(0, 56, 9))\n",
    "\n",
    "# plt.show()"
   ]
  },
  {
   "cell_type": "code",
   "execution_count": null,
   "metadata": {},
   "outputs": [],
   "source": []
  }
 ],
 "metadata": {
  "kernelspec": {
   "display_name": "Python 3",
   "language": "python",
   "name": "python3"
  },
  "language_info": {
   "codemirror_mode": {
    "name": "ipython",
    "version": 3
   },
   "file_extension": ".py",
   "mimetype": "text/x-python",
   "name": "python",
   "nbconvert_exporter": "python",
   "pygments_lexer": "ipython3",
   "version": "3.8.5"
  }
 },
 "nbformat": 4,
 "nbformat_minor": 5
}
